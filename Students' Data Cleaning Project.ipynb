{
 "cells": [
  {
   "cell_type": "markdown",
   "id": "864d74fa-d90c-44d7-8494-92acc2b94f09",
   "metadata": {},
   "source": [
    "**Importing Libraries**"
   ]
  },
  {
   "cell_type": "code",
   "execution_count": 1,
   "id": "da12a41b-bbcc-4807-b17d-4056aac358f6",
   "metadata": {},
   "outputs": [],
   "source": [
    "import numpy as np\n",
    "import pandas as pd"
   ]
  },
  {
   "cell_type": "markdown",
   "id": "db1c4f96-8329-4cc9-81ae-3d50273eb3a3",
   "metadata": {},
   "source": [
    "**Loading the Dataset**"
   ]
  },
  {
   "cell_type": "code",
   "execution_count": 5,
   "id": "cf808db2-dd9d-4d61-952c-c3243ecacb80",
   "metadata": {},
   "outputs": [],
   "source": [
    "student = pd.read_csv('Desktop/DataMentor Hub/Python Data Cleaning/students_data.csv')"
   ]
  },
  {
   "cell_type": "markdown",
   "id": "e396ed6f-2037-4e77-ac2e-31831a881ea6",
   "metadata": {},
   "source": [
    "**Previewing the First Five Records**"
   ]
  },
  {
   "cell_type": "code",
   "execution_count": 6,
   "id": "55631ae9-0723-4271-b65a-79c368de81ab",
   "metadata": {},
   "outputs": [
    {
     "data": {
      "text/html": [
       "<div>\n",
       "<style scoped>\n",
       "    .dataframe tbody tr th:only-of-type {\n",
       "        vertical-align: middle;\n",
       "    }\n",
       "\n",
       "    .dataframe tbody tr th {\n",
       "        vertical-align: top;\n",
       "    }\n",
       "\n",
       "    .dataframe thead th {\n",
       "        text-align: right;\n",
       "    }\n",
       "</style>\n",
       "<table border=\"1\" class=\"dataframe\">\n",
       "  <thead>\n",
       "    <tr style=\"text-align: right;\">\n",
       "      <th></th>\n",
       "      <th>student_id</th>\n",
       "      <th>name</th>\n",
       "      <th>age</th>\n",
       "      <th>gender</th>\n",
       "      <th>grade</th>\n",
       "      <th>math_score</th>\n",
       "      <th>english_score</th>\n",
       "      <th>science_score</th>\n",
       "      <th>enrolled_date</th>\n",
       "      <th>remarks</th>\n",
       "    </tr>\n",
       "  </thead>\n",
       "  <tbody>\n",
       "    <tr>\n",
       "      <th>0</th>\n",
       "      <td>100</td>\n",
       "      <td>jane smith</td>\n",
       "      <td>16.0</td>\n",
       "      <td>female</td>\n",
       "      <td>11</td>\n",
       "      <td>75.0</td>\n",
       "      <td>NaN</td>\n",
       "      <td>66</td>\n",
       "      <td>2022-06-10</td>\n",
       "      <td>excellent</td>\n",
       "    </tr>\n",
       "    <tr>\n",
       "      <th>1</th>\n",
       "      <td>101</td>\n",
       "      <td>John Doe</td>\n",
       "      <td>16.0</td>\n",
       "      <td>Male</td>\n",
       "      <td>10th</td>\n",
       "      <td>74.0</td>\n",
       "      <td>95</td>\n",
       "      <td>94</td>\n",
       "      <td>10-06-2022</td>\n",
       "      <td>GOOD</td>\n",
       "    </tr>\n",
       "    <tr>\n",
       "      <th>2</th>\n",
       "      <td>102</td>\n",
       "      <td>Chris P.</td>\n",
       "      <td>NaN</td>\n",
       "      <td>MALE</td>\n",
       "      <td>10</td>\n",
       "      <td>NaN</td>\n",
       "      <td>missing</td>\n",
       "      <td>69</td>\n",
       "      <td>06/12/2022</td>\n",
       "      <td>needs improvement</td>\n",
       "    </tr>\n",
       "    <tr>\n",
       "      <th>3</th>\n",
       "      <td>103</td>\n",
       "      <td>jane smith</td>\n",
       "      <td>16.0</td>\n",
       "      <td>FEMALE</td>\n",
       "      <td>10</td>\n",
       "      <td>NaN</td>\n",
       "      <td>missing</td>\n",
       "      <td>62</td>\n",
       "      <td>10-06-2022</td>\n",
       "      <td>average</td>\n",
       "    </tr>\n",
       "    <tr>\n",
       "      <th>4</th>\n",
       "      <td>104</td>\n",
       "      <td>Sara O'Neil</td>\n",
       "      <td>16.0</td>\n",
       "      <td>male</td>\n",
       "      <td>11</td>\n",
       "      <td>NaN</td>\n",
       "      <td>96</td>\n",
       "      <td>64</td>\n",
       "      <td>2022-06-10</td>\n",
       "      <td>GOOD</td>\n",
       "    </tr>\n",
       "  </tbody>\n",
       "</table>\n",
       "</div>"
      ],
      "text/plain": [
       "   student_id         name   age  gender grade  math_score english_score  \\\n",
       "0         100   jane smith  16.0  female    11        75.0           NaN   \n",
       "1         101     John Doe  16.0    Male  10th        74.0            95   \n",
       "2         102     Chris P.   NaN    MALE    10         NaN       missing   \n",
       "3         103   jane smith  16.0  FEMALE    10         NaN       missing   \n",
       "4         104  Sara O'Neil  16.0    male    11         NaN            96   \n",
       "\n",
       "   science_score enrolled_date            remarks  \n",
       "0             66    2022-06-10          excellent  \n",
       "1             94    10-06-2022               GOOD  \n",
       "2             69    06/12/2022  needs improvement  \n",
       "3             62    10-06-2022            average  \n",
       "4             64    2022-06-10               GOOD  "
      ]
     },
     "execution_count": 6,
     "metadata": {},
     "output_type": "execute_result"
    }
   ],
   "source": [
    "student.head()"
   ]
  },
  {
   "cell_type": "markdown",
   "id": "18ec2599-fd02-4ea2-a068-14c1b1c31ba7",
   "metadata": {},
   "source": [
    "**Previewing the Last Five Records**"
   ]
  },
  {
   "cell_type": "code",
   "execution_count": 8,
   "id": "14bf75b1-7029-4c99-a415-2c5311e4153f",
   "metadata": {},
   "outputs": [
    {
     "data": {
      "text/html": [
       "<div>\n",
       "<style scoped>\n",
       "    .dataframe tbody tr th:only-of-type {\n",
       "        vertical-align: middle;\n",
       "    }\n",
       "\n",
       "    .dataframe tbody tr th {\n",
       "        vertical-align: top;\n",
       "    }\n",
       "\n",
       "    .dataframe thead th {\n",
       "        text-align: right;\n",
       "    }\n",
       "</style>\n",
       "<table border=\"1\" class=\"dataframe\">\n",
       "  <thead>\n",
       "    <tr style=\"text-align: right;\">\n",
       "      <th></th>\n",
       "      <th>student_id</th>\n",
       "      <th>name</th>\n",
       "      <th>age</th>\n",
       "      <th>gender</th>\n",
       "      <th>grade</th>\n",
       "      <th>math_score</th>\n",
       "      <th>english_score</th>\n",
       "      <th>science_score</th>\n",
       "      <th>enrolled_date</th>\n",
       "      <th>remarks</th>\n",
       "    </tr>\n",
       "  </thead>\n",
       "  <tbody>\n",
       "    <tr>\n",
       "      <th>26</th>\n",
       "      <td>126</td>\n",
       "      <td>John Doe</td>\n",
       "      <td>NaN</td>\n",
       "      <td>Male</td>\n",
       "      <td>10th</td>\n",
       "      <td>64.0</td>\n",
       "      <td>missing</td>\n",
       "      <td>67</td>\n",
       "      <td>06/12/2022</td>\n",
       "      <td>good student</td>\n",
       "    </tr>\n",
       "    <tr>\n",
       "      <th>27</th>\n",
       "      <td>127</td>\n",
       "      <td>Simran Singh</td>\n",
       "      <td>16.0</td>\n",
       "      <td>FEMALE</td>\n",
       "      <td>12</td>\n",
       "      <td>NaN</td>\n",
       "      <td>76</td>\n",
       "      <td>80</td>\n",
       "      <td>06/12/2022</td>\n",
       "      <td>poor</td>\n",
       "    </tr>\n",
       "    <tr>\n",
       "      <th>28</th>\n",
       "      <td>128</td>\n",
       "      <td>Sara O'Neil</td>\n",
       "      <td>17.0</td>\n",
       "      <td>female</td>\n",
       "      <td>11</td>\n",
       "      <td>NaN</td>\n",
       "      <td>64</td>\n",
       "      <td>89</td>\n",
       "      <td>2022-06-10</td>\n",
       "      <td>average</td>\n",
       "    </tr>\n",
       "    <tr>\n",
       "      <th>29</th>\n",
       "      <td>129</td>\n",
       "      <td>Patel R.</td>\n",
       "      <td>17.0</td>\n",
       "      <td>male</td>\n",
       "      <td>11</td>\n",
       "      <td>NaN</td>\n",
       "      <td>64</td>\n",
       "      <td>83</td>\n",
       "      <td>2022/06/11</td>\n",
       "      <td>Average</td>\n",
       "    </tr>\n",
       "    <tr>\n",
       "      <th>30</th>\n",
       "      <td>129</td>\n",
       "      <td>Patel R.</td>\n",
       "      <td>17.0</td>\n",
       "      <td>male</td>\n",
       "      <td>11</td>\n",
       "      <td>NaN</td>\n",
       "      <td>64</td>\n",
       "      <td>83</td>\n",
       "      <td>2022/06/11</td>\n",
       "      <td>Average</td>\n",
       "    </tr>\n",
       "  </tbody>\n",
       "</table>\n",
       "</div>"
      ],
      "text/plain": [
       "    student_id          name   age  gender grade  math_score english_score  \\\n",
       "26         126      John Doe   NaN    Male  10th        64.0       missing   \n",
       "27         127  Simran Singh  16.0  FEMALE    12         NaN            76   \n",
       "28         128   Sara O'Neil  17.0  female    11         NaN            64   \n",
       "29         129      Patel R.  17.0    male    11         NaN            64   \n",
       "30         129      Patel R.  17.0    male    11         NaN            64   \n",
       "\n",
       "    science_score enrolled_date       remarks  \n",
       "26             67    06/12/2022  good student  \n",
       "27             80    06/12/2022          poor  \n",
       "28             89    2022-06-10       average  \n",
       "29             83    2022/06/11       Average  \n",
       "30             83    2022/06/11       Average  "
      ]
     },
     "execution_count": 8,
     "metadata": {},
     "output_type": "execute_result"
    }
   ],
   "source": [
    "student.tail()"
   ]
  },
  {
   "cell_type": "markdown",
   "id": "fc88e55f-f964-49cf-b227-8cc3bd669399",
   "metadata": {},
   "source": [
    "**Checking Dataset Dimensions**"
   ]
  },
  {
   "cell_type": "code",
   "execution_count": 7,
   "id": "ca617acc-2c18-4da0-940e-724b22c21671",
   "metadata": {},
   "outputs": [
    {
     "data": {
      "text/plain": [
       "(31, 10)"
      ]
     },
     "execution_count": 7,
     "metadata": {},
     "output_type": "execute_result"
    }
   ],
   "source": [
    "student.shape"
   ]
  },
  {
   "cell_type": "markdown",
   "id": "98e30f51-3d55-435a-a29a-2e41e7fe42fa",
   "metadata": {},
   "source": [
    "**Checking Column Names**"
   ]
  },
  {
   "cell_type": "code",
   "execution_count": 9,
   "id": "e5380de2-3411-466e-b721-ee8e7ad58269",
   "metadata": {},
   "outputs": [
    {
     "data": {
      "text/plain": [
       "Index(['student_id', 'name', 'age', 'gender', 'grade', 'math_score',\n",
       "       'english_score', 'science_score', 'enrolled_date', 'remarks'],\n",
       "      dtype='object')"
      ]
     },
     "execution_count": 9,
     "metadata": {},
     "output_type": "execute_result"
    }
   ],
   "source": [
    "student.columns"
   ]
  },
  {
   "cell_type": "markdown",
   "id": "1b89a6ed-f065-457f-8146-f079aa56fe60",
   "metadata": {},
   "source": [
    "**Checking for Duplicate Records**"
   ]
  },
  {
   "cell_type": "code",
   "execution_count": 14,
   "id": "18325dc6-762c-43b1-a612-07c2334e1f44",
   "metadata": {},
   "outputs": [
    {
     "data": {
      "text/plain": [
       "1"
      ]
     },
     "execution_count": 14,
     "metadata": {},
     "output_type": "execute_result"
    }
   ],
   "source": [
    "student.duplicated().sum()"
   ]
  },
  {
   "cell_type": "markdown",
   "id": "8b856490-8f63-41ae-9c0b-5bdabaf5ab60",
   "metadata": {},
   "source": [
    "**Removing Duplicates**"
   ]
  },
  {
   "cell_type": "code",
   "execution_count": 25,
   "id": "d9c12ff5-1af4-484e-8095-e07c5746614d",
   "metadata": {},
   "outputs": [],
   "source": [
    "student.drop_duplicates(inplace = True)"
   ]
  },
  {
   "cell_type": "code",
   "execution_count": 27,
   "id": "171fb72a-97b4-42b3-b65a-846e7a4ce40d",
   "metadata": {},
   "outputs": [
    {
     "data": {
      "text/html": [
       "<div>\n",
       "<style scoped>\n",
       "    .dataframe tbody tr th:only-of-type {\n",
       "        vertical-align: middle;\n",
       "    }\n",
       "\n",
       "    .dataframe tbody tr th {\n",
       "        vertical-align: top;\n",
       "    }\n",
       "\n",
       "    .dataframe thead th {\n",
       "        text-align: right;\n",
       "    }\n",
       "</style>\n",
       "<table border=\"1\" class=\"dataframe\">\n",
       "  <thead>\n",
       "    <tr style=\"text-align: right;\">\n",
       "      <th></th>\n",
       "      <th>Student_Id</th>\n",
       "      <th>Name</th>\n",
       "      <th>Age</th>\n",
       "      <th>Gender</th>\n",
       "      <th>Grade</th>\n",
       "      <th>Math Score</th>\n",
       "      <th>English Score</th>\n",
       "      <th>Science Score</th>\n",
       "      <th>Enrolled Date</th>\n",
       "      <th>Remarks</th>\n",
       "    </tr>\n",
       "  </thead>\n",
       "  <tbody>\n",
       "    <tr>\n",
       "      <th>0</th>\n",
       "      <td>100</td>\n",
       "      <td>jane smith</td>\n",
       "      <td>16.0</td>\n",
       "      <td>female</td>\n",
       "      <td>11</td>\n",
       "      <td>75.0</td>\n",
       "      <td>NaN</td>\n",
       "      <td>66</td>\n",
       "      <td>2022-06-10</td>\n",
       "      <td>excellent</td>\n",
       "    </tr>\n",
       "    <tr>\n",
       "      <th>1</th>\n",
       "      <td>101</td>\n",
       "      <td>John Doe</td>\n",
       "      <td>16.0</td>\n",
       "      <td>Male</td>\n",
       "      <td>10th</td>\n",
       "      <td>74.0</td>\n",
       "      <td>95</td>\n",
       "      <td>94</td>\n",
       "      <td>10-06-2022</td>\n",
       "      <td>GOOD</td>\n",
       "    </tr>\n",
       "    <tr>\n",
       "      <th>2</th>\n",
       "      <td>102</td>\n",
       "      <td>Chris P.</td>\n",
       "      <td>NaN</td>\n",
       "      <td>MALE</td>\n",
       "      <td>10</td>\n",
       "      <td>NaN</td>\n",
       "      <td>missing</td>\n",
       "      <td>69</td>\n",
       "      <td>06/12/2022</td>\n",
       "      <td>needs improvement</td>\n",
       "    </tr>\n",
       "    <tr>\n",
       "      <th>3</th>\n",
       "      <td>103</td>\n",
       "      <td>jane smith</td>\n",
       "      <td>16.0</td>\n",
       "      <td>FEMALE</td>\n",
       "      <td>10</td>\n",
       "      <td>NaN</td>\n",
       "      <td>missing</td>\n",
       "      <td>62</td>\n",
       "      <td>10-06-2022</td>\n",
       "      <td>average</td>\n",
       "    </tr>\n",
       "    <tr>\n",
       "      <th>4</th>\n",
       "      <td>104</td>\n",
       "      <td>Sara O'Neil</td>\n",
       "      <td>16.0</td>\n",
       "      <td>male</td>\n",
       "      <td>11</td>\n",
       "      <td>NaN</td>\n",
       "      <td>96</td>\n",
       "      <td>64</td>\n",
       "      <td>2022-06-10</td>\n",
       "      <td>GOOD</td>\n",
       "    </tr>\n",
       "    <tr>\n",
       "      <th>5</th>\n",
       "      <td>105</td>\n",
       "      <td>Mike O’Reilly</td>\n",
       "      <td>16.0</td>\n",
       "      <td>Female</td>\n",
       "      <td>10</td>\n",
       "      <td>NaN</td>\n",
       "      <td>NaN</td>\n",
       "      <td>83</td>\n",
       "      <td>06/12/2022</td>\n",
       "      <td>needs improvement</td>\n",
       "    </tr>\n",
       "    <tr>\n",
       "      <th>6</th>\n",
       "      <td>106</td>\n",
       "      <td>ali Khan</td>\n",
       "      <td>17.0</td>\n",
       "      <td>female</td>\n",
       "      <td>11</td>\n",
       "      <td>64.0</td>\n",
       "      <td>NaN</td>\n",
       "      <td>75</td>\n",
       "      <td>06/12/2022</td>\n",
       "      <td>Good</td>\n",
       "    </tr>\n",
       "    <tr>\n",
       "      <th>7</th>\n",
       "      <td>107</td>\n",
       "      <td>Sara O'Neil</td>\n",
       "      <td>17.0</td>\n",
       "      <td>female</td>\n",
       "      <td>12</td>\n",
       "      <td>NaN</td>\n",
       "      <td>63</td>\n",
       "      <td>62</td>\n",
       "      <td>2022/06/11</td>\n",
       "      <td>excellent</td>\n",
       "    </tr>\n",
       "    <tr>\n",
       "      <th>8</th>\n",
       "      <td>108</td>\n",
       "      <td>Mike O’Reilly</td>\n",
       "      <td>16.0</td>\n",
       "      <td>Female</td>\n",
       "      <td>12</td>\n",
       "      <td>80.0</td>\n",
       "      <td>missing</td>\n",
       "      <td>89</td>\n",
       "      <td>06/12/2022</td>\n",
       "      <td>poor</td>\n",
       "    </tr>\n",
       "    <tr>\n",
       "      <th>9</th>\n",
       "      <td>109</td>\n",
       "      <td>Robert Brown</td>\n",
       "      <td>17.0</td>\n",
       "      <td>female</td>\n",
       "      <td>12</td>\n",
       "      <td>NaN</td>\n",
       "      <td>missing</td>\n",
       "      <td>97</td>\n",
       "      <td>10-06-2022</td>\n",
       "      <td>needs improvement</td>\n",
       "    </tr>\n",
       "    <tr>\n",
       "      <th>10</th>\n",
       "      <td>110</td>\n",
       "      <td>lucy gray</td>\n",
       "      <td>17.0</td>\n",
       "      <td>male</td>\n",
       "      <td>11th</td>\n",
       "      <td>65.0</td>\n",
       "      <td>67</td>\n",
       "      <td>100</td>\n",
       "      <td>06/12/2022</td>\n",
       "      <td>excellent</td>\n",
       "    </tr>\n",
       "    <tr>\n",
       "      <th>11</th>\n",
       "      <td>111</td>\n",
       "      <td>Simran Singh</td>\n",
       "      <td>16.0</td>\n",
       "      <td>FEMALE</td>\n",
       "      <td>11th</td>\n",
       "      <td>NaN</td>\n",
       "      <td>missing</td>\n",
       "      <td>95</td>\n",
       "      <td>2022-06-10</td>\n",
       "      <td>average</td>\n",
       "    </tr>\n",
       "    <tr>\n",
       "      <th>12</th>\n",
       "      <td>112</td>\n",
       "      <td>Patel R.</td>\n",
       "      <td>17.0</td>\n",
       "      <td>female</td>\n",
       "      <td>11</td>\n",
       "      <td>NaN</td>\n",
       "      <td>87</td>\n",
       "      <td>89</td>\n",
       "      <td>2022-06-10</td>\n",
       "      <td>poor</td>\n",
       "    </tr>\n",
       "    <tr>\n",
       "      <th>13</th>\n",
       "      <td>113</td>\n",
       "      <td>Patel R.</td>\n",
       "      <td>17.0</td>\n",
       "      <td>male</td>\n",
       "      <td>10</td>\n",
       "      <td>NaN</td>\n",
       "      <td>NaN</td>\n",
       "      <td>98</td>\n",
       "      <td>06/12/2022</td>\n",
       "      <td>Average</td>\n",
       "    </tr>\n",
       "    <tr>\n",
       "      <th>14</th>\n",
       "      <td>114</td>\n",
       "      <td>Ali Khan</td>\n",
       "      <td>17.0</td>\n",
       "      <td>male</td>\n",
       "      <td>12</td>\n",
       "      <td>NaN</td>\n",
       "      <td>91</td>\n",
       "      <td>67</td>\n",
       "      <td>2022/06/11</td>\n",
       "      <td>poor</td>\n",
       "    </tr>\n",
       "    <tr>\n",
       "      <th>15</th>\n",
       "      <td>115</td>\n",
       "      <td>Lucy gray</td>\n",
       "      <td>16.0</td>\n",
       "      <td>Female</td>\n",
       "      <td>12</td>\n",
       "      <td>65.0</td>\n",
       "      <td>91</td>\n",
       "      <td>94</td>\n",
       "      <td>06/12/2022</td>\n",
       "      <td>Average</td>\n",
       "    </tr>\n",
       "    <tr>\n",
       "      <th>16</th>\n",
       "      <td>116</td>\n",
       "      <td>Chris P.</td>\n",
       "      <td>NaN</td>\n",
       "      <td>Female</td>\n",
       "      <td>11</td>\n",
       "      <td>NaN</td>\n",
       "      <td>NaN</td>\n",
       "      <td>72</td>\n",
       "      <td>2022/06/11</td>\n",
       "      <td>excellent</td>\n",
       "    </tr>\n",
       "    <tr>\n",
       "      <th>17</th>\n",
       "      <td>117</td>\n",
       "      <td>Ali Khan</td>\n",
       "      <td>18.0</td>\n",
       "      <td>male</td>\n",
       "      <td>11th</td>\n",
       "      <td>67.0</td>\n",
       "      <td>74</td>\n",
       "      <td>81</td>\n",
       "      <td>2022-06-10</td>\n",
       "      <td>GOOD</td>\n",
       "    </tr>\n",
       "    <tr>\n",
       "      <th>18</th>\n",
       "      <td>118</td>\n",
       "      <td>Simran Singh</td>\n",
       "      <td>17.0</td>\n",
       "      <td>Male</td>\n",
       "      <td>10</td>\n",
       "      <td>100.0</td>\n",
       "      <td>74</td>\n",
       "      <td>62</td>\n",
       "      <td>2022/06/11</td>\n",
       "      <td>average</td>\n",
       "    </tr>\n",
       "    <tr>\n",
       "      <th>19</th>\n",
       "      <td>119</td>\n",
       "      <td>Patel R.</td>\n",
       "      <td>17.0</td>\n",
       "      <td>MALE</td>\n",
       "      <td>11th</td>\n",
       "      <td>73.0</td>\n",
       "      <td>NaN</td>\n",
       "      <td>90</td>\n",
       "      <td>06/12/2022</td>\n",
       "      <td>Good</td>\n",
       "    </tr>\n",
       "    <tr>\n",
       "      <th>20</th>\n",
       "      <td>120</td>\n",
       "      <td>Sara O'Neil</td>\n",
       "      <td>17.0</td>\n",
       "      <td>Male</td>\n",
       "      <td>10</td>\n",
       "      <td>NaN</td>\n",
       "      <td>missing</td>\n",
       "      <td>89</td>\n",
       "      <td>2022-06-10</td>\n",
       "      <td>average</td>\n",
       "    </tr>\n",
       "    <tr>\n",
       "      <th>21</th>\n",
       "      <td>121</td>\n",
       "      <td>John Doe</td>\n",
       "      <td>18.0</td>\n",
       "      <td>female</td>\n",
       "      <td>11</td>\n",
       "      <td>66.0</td>\n",
       "      <td>72</td>\n",
       "      <td>94</td>\n",
       "      <td>10-06-2022</td>\n",
       "      <td>Average</td>\n",
       "    </tr>\n",
       "    <tr>\n",
       "      <th>22</th>\n",
       "      <td>122</td>\n",
       "      <td>Sara O'Neil</td>\n",
       "      <td>17.0</td>\n",
       "      <td>MALE</td>\n",
       "      <td>11th</td>\n",
       "      <td>75.0</td>\n",
       "      <td>NaN</td>\n",
       "      <td>66</td>\n",
       "      <td>2022-06-10</td>\n",
       "      <td>good student</td>\n",
       "    </tr>\n",
       "    <tr>\n",
       "      <th>23</th>\n",
       "      <td>123</td>\n",
       "      <td>jane smith</td>\n",
       "      <td>17.0</td>\n",
       "      <td>Female</td>\n",
       "      <td>11th</td>\n",
       "      <td>NaN</td>\n",
       "      <td>missing</td>\n",
       "      <td>63</td>\n",
       "      <td>06/12/2022</td>\n",
       "      <td>excellent</td>\n",
       "    </tr>\n",
       "    <tr>\n",
       "      <th>24</th>\n",
       "      <td>124</td>\n",
       "      <td>John Doe</td>\n",
       "      <td>18.0</td>\n",
       "      <td>MALE</td>\n",
       "      <td>11th</td>\n",
       "      <td>NaN</td>\n",
       "      <td>NaN</td>\n",
       "      <td>91</td>\n",
       "      <td>06/12/2022</td>\n",
       "      <td>GOOD</td>\n",
       "    </tr>\n",
       "    <tr>\n",
       "      <th>25</th>\n",
       "      <td>125</td>\n",
       "      <td>Mike O’Reilly</td>\n",
       "      <td>17.0</td>\n",
       "      <td>Male</td>\n",
       "      <td>12</td>\n",
       "      <td>94.0</td>\n",
       "      <td>80</td>\n",
       "      <td>63</td>\n",
       "      <td>10-06-2022</td>\n",
       "      <td>Average</td>\n",
       "    </tr>\n",
       "    <tr>\n",
       "      <th>26</th>\n",
       "      <td>126</td>\n",
       "      <td>John Doe</td>\n",
       "      <td>NaN</td>\n",
       "      <td>Male</td>\n",
       "      <td>10th</td>\n",
       "      <td>64.0</td>\n",
       "      <td>missing</td>\n",
       "      <td>67</td>\n",
       "      <td>06/12/2022</td>\n",
       "      <td>good student</td>\n",
       "    </tr>\n",
       "    <tr>\n",
       "      <th>27</th>\n",
       "      <td>127</td>\n",
       "      <td>Simran Singh</td>\n",
       "      <td>16.0</td>\n",
       "      <td>FEMALE</td>\n",
       "      <td>12</td>\n",
       "      <td>NaN</td>\n",
       "      <td>76</td>\n",
       "      <td>80</td>\n",
       "      <td>06/12/2022</td>\n",
       "      <td>poor</td>\n",
       "    </tr>\n",
       "    <tr>\n",
       "      <th>28</th>\n",
       "      <td>128</td>\n",
       "      <td>Sara O'Neil</td>\n",
       "      <td>17.0</td>\n",
       "      <td>female</td>\n",
       "      <td>11</td>\n",
       "      <td>NaN</td>\n",
       "      <td>64</td>\n",
       "      <td>89</td>\n",
       "      <td>2022-06-10</td>\n",
       "      <td>average</td>\n",
       "    </tr>\n",
       "    <tr>\n",
       "      <th>29</th>\n",
       "      <td>129</td>\n",
       "      <td>Patel R.</td>\n",
       "      <td>17.0</td>\n",
       "      <td>male</td>\n",
       "      <td>11</td>\n",
       "      <td>NaN</td>\n",
       "      <td>64</td>\n",
       "      <td>83</td>\n",
       "      <td>2022/06/11</td>\n",
       "      <td>Average</td>\n",
       "    </tr>\n",
       "  </tbody>\n",
       "</table>\n",
       "</div>"
      ],
      "text/plain": [
       "    Student_Id           Name   Age  Gender Grade  Math Score English Score  \\\n",
       "0          100     jane smith  16.0  female    11        75.0           NaN   \n",
       "1          101       John Doe  16.0    Male  10th        74.0            95   \n",
       "2          102       Chris P.   NaN    MALE    10         NaN       missing   \n",
       "3          103     jane smith  16.0  FEMALE    10         NaN       missing   \n",
       "4          104    Sara O'Neil  16.0    male    11         NaN            96   \n",
       "5          105  Mike O’Reilly  16.0  Female    10         NaN           NaN   \n",
       "6          106       ali Khan  17.0  female    11        64.0           NaN   \n",
       "7          107    Sara O'Neil  17.0  female    12         NaN            63   \n",
       "8          108  Mike O’Reilly  16.0  Female    12        80.0       missing   \n",
       "9          109   Robert Brown  17.0  female    12         NaN       missing   \n",
       "10         110      lucy gray  17.0    male  11th        65.0            67   \n",
       "11         111   Simran Singh  16.0  FEMALE  11th         NaN       missing   \n",
       "12         112       Patel R.  17.0  female    11         NaN            87   \n",
       "13         113       Patel R.  17.0    male    10         NaN           NaN   \n",
       "14         114       Ali Khan  17.0    male    12         NaN            91   \n",
       "15         115      Lucy gray  16.0  Female    12        65.0            91   \n",
       "16         116       Chris P.   NaN  Female    11         NaN           NaN   \n",
       "17         117       Ali Khan  18.0    male  11th        67.0            74   \n",
       "18         118   Simran Singh  17.0    Male    10       100.0            74   \n",
       "19         119       Patel R.  17.0    MALE  11th        73.0           NaN   \n",
       "20         120    Sara O'Neil  17.0    Male    10         NaN       missing   \n",
       "21         121       John Doe  18.0  female    11        66.0            72   \n",
       "22         122    Sara O'Neil  17.0    MALE  11th        75.0           NaN   \n",
       "23         123     jane smith  17.0  Female  11th         NaN       missing   \n",
       "24         124       John Doe  18.0    MALE  11th         NaN           NaN   \n",
       "25         125  Mike O’Reilly  17.0    Male    12        94.0            80   \n",
       "26         126       John Doe   NaN    Male  10th        64.0       missing   \n",
       "27         127   Simran Singh  16.0  FEMALE    12         NaN            76   \n",
       "28         128    Sara O'Neil  17.0  female    11         NaN            64   \n",
       "29         129       Patel R.  17.0    male    11         NaN            64   \n",
       "\n",
       "    Science Score Enrolled Date            Remarks  \n",
       "0              66    2022-06-10          excellent  \n",
       "1              94    10-06-2022               GOOD  \n",
       "2              69    06/12/2022  needs improvement  \n",
       "3              62    10-06-2022            average  \n",
       "4              64    2022-06-10               GOOD  \n",
       "5              83    06/12/2022  needs improvement  \n",
       "6              75    06/12/2022               Good  \n",
       "7              62    2022/06/11          excellent  \n",
       "8              89    06/12/2022               poor  \n",
       "9              97    10-06-2022  needs improvement  \n",
       "10            100    06/12/2022          excellent  \n",
       "11             95    2022-06-10            average  \n",
       "12             89    2022-06-10               poor  \n",
       "13             98    06/12/2022            Average  \n",
       "14             67    2022/06/11               poor  \n",
       "15             94    06/12/2022            Average  \n",
       "16             72    2022/06/11          excellent  \n",
       "17             81    2022-06-10               GOOD  \n",
       "18             62    2022/06/11            average  \n",
       "19             90    06/12/2022               Good  \n",
       "20             89    2022-06-10            average  \n",
       "21             94    10-06-2022            Average  \n",
       "22             66    2022-06-10       good student  \n",
       "23             63    06/12/2022          excellent  \n",
       "24             91    06/12/2022               GOOD  \n",
       "25             63    10-06-2022            Average  \n",
       "26             67    06/12/2022       good student  \n",
       "27             80    06/12/2022               poor  \n",
       "28             89    2022-06-10            average  \n",
       "29             83    2022/06/11            Average  "
      ]
     },
     "execution_count": 27,
     "metadata": {},
     "output_type": "execute_result"
    }
   ],
   "source": [
    "student"
   ]
  },
  {
   "cell_type": "markdown",
   "id": "06164f77-4a43-4559-91f7-ed3e850e163e",
   "metadata": {},
   "source": [
    "**Dataset Information Summary**"
   ]
  },
  {
   "cell_type": "code",
   "execution_count": 28,
   "id": "71194bd8-b3f6-4f35-b539-4812819f17c5",
   "metadata": {},
   "outputs": [
    {
     "name": "stdout",
     "output_type": "stream",
     "text": [
      "<class 'pandas.core.frame.DataFrame'>\n",
      "Index: 30 entries, 0 to 29\n",
      "Data columns (total 10 columns):\n",
      " #   Column         Non-Null Count  Dtype  \n",
      "---  ------         --------------  -----  \n",
      " 0   Student_Id     30 non-null     int64  \n",
      " 1   Name           30 non-null     object \n",
      " 2   Age            27 non-null     float64\n",
      " 3   Gender         30 non-null     object \n",
      " 4   Grade          30 non-null     object \n",
      " 5   Math Score     13 non-null     float64\n",
      " 6   English Score  22 non-null     object \n",
      " 7   Science Score  30 non-null     int64  \n",
      " 8   Enrolled Date  30 non-null     object \n",
      " 9   Remarks        30 non-null     object \n",
      "dtypes: float64(2), int64(2), object(6)\n",
      "memory usage: 2.6+ KB\n"
     ]
    }
   ],
   "source": [
    "student.info()"
   ]
  },
  {
   "cell_type": "markdown",
   "id": "58708f5d-6634-4032-9ca5-039c1efa837e",
   "metadata": {},
   "source": [
    "**Renaming Columns**"
   ]
  },
  {
   "cell_type": "code",
   "execution_count": 29,
   "id": "705ca95e-8964-40cb-9bf2-2d85dab2cc18",
   "metadata": {},
   "outputs": [],
   "source": [
    "cols_dict = {'student_id':'Student_Id', 'name':'Name', 'age':'Age', 'gender':'Gender', 'grade':'Grade', 'math_score':'Math Score','english_score':'English Score', 'science_score':'Science Score', 'enrolled_date':'Enrolled Date', 'remarks':'Remarks'}"
   ]
  },
  {
   "cell_type": "code",
   "execution_count": 30,
   "id": "16cfc335-a4b7-4cae-acfb-7a196868e8e3",
   "metadata": {},
   "outputs": [],
   "source": [
    "student.rename(columns = cols_dict, inplace = True)"
   ]
  },
  {
   "cell_type": "code",
   "execution_count": 48,
   "id": "0a6e3189-0a7a-48a5-9f1d-c111a35c56fe",
   "metadata": {},
   "outputs": [
    {
     "data": {
      "text/html": [
       "<div>\n",
       "<style scoped>\n",
       "    .dataframe tbody tr th:only-of-type {\n",
       "        vertical-align: middle;\n",
       "    }\n",
       "\n",
       "    .dataframe tbody tr th {\n",
       "        vertical-align: top;\n",
       "    }\n",
       "\n",
       "    .dataframe thead th {\n",
       "        text-align: right;\n",
       "    }\n",
       "</style>\n",
       "<table border=\"1\" class=\"dataframe\">\n",
       "  <thead>\n",
       "    <tr style=\"text-align: right;\">\n",
       "      <th></th>\n",
       "      <th>Student_Id</th>\n",
       "      <th>Name</th>\n",
       "      <th>Age</th>\n",
       "      <th>Gender</th>\n",
       "      <th>Grade</th>\n",
       "      <th>Math Score</th>\n",
       "      <th>English Score</th>\n",
       "      <th>Science Score</th>\n",
       "      <th>Enrolled Date</th>\n",
       "      <th>Remarks</th>\n",
       "    </tr>\n",
       "  </thead>\n",
       "  <tbody>\n",
       "    <tr>\n",
       "      <th>0</th>\n",
       "      <td>100</td>\n",
       "      <td>Jane Smith</td>\n",
       "      <td>16.0</td>\n",
       "      <td>female</td>\n",
       "      <td>11</td>\n",
       "      <td>75.0</td>\n",
       "      <td>NaN</td>\n",
       "      <td>66</td>\n",
       "      <td>2022-06-10</td>\n",
       "      <td>excellent</td>\n",
       "    </tr>\n",
       "    <tr>\n",
       "      <th>1</th>\n",
       "      <td>101</td>\n",
       "      <td>John Doe</td>\n",
       "      <td>16.0</td>\n",
       "      <td>Male</td>\n",
       "      <td>10th</td>\n",
       "      <td>74.0</td>\n",
       "      <td>95</td>\n",
       "      <td>94</td>\n",
       "      <td>10-06-2022</td>\n",
       "      <td>GOOD</td>\n",
       "    </tr>\n",
       "    <tr>\n",
       "      <th>2</th>\n",
       "      <td>102</td>\n",
       "      <td>Chris P.</td>\n",
       "      <td>NaN</td>\n",
       "      <td>MALE</td>\n",
       "      <td>10</td>\n",
       "      <td>NaN</td>\n",
       "      <td>missing</td>\n",
       "      <td>69</td>\n",
       "      <td>06/12/2022</td>\n",
       "      <td>needs improvement</td>\n",
       "    </tr>\n",
       "    <tr>\n",
       "      <th>3</th>\n",
       "      <td>103</td>\n",
       "      <td>Jane Smith</td>\n",
       "      <td>16.0</td>\n",
       "      <td>FEMALE</td>\n",
       "      <td>10</td>\n",
       "      <td>NaN</td>\n",
       "      <td>missing</td>\n",
       "      <td>62</td>\n",
       "      <td>10-06-2022</td>\n",
       "      <td>average</td>\n",
       "    </tr>\n",
       "    <tr>\n",
       "      <th>4</th>\n",
       "      <td>104</td>\n",
       "      <td>Sara O'Neil</td>\n",
       "      <td>16.0</td>\n",
       "      <td>male</td>\n",
       "      <td>11</td>\n",
       "      <td>NaN</td>\n",
       "      <td>96</td>\n",
       "      <td>64</td>\n",
       "      <td>2022-06-10</td>\n",
       "      <td>GOOD</td>\n",
       "    </tr>\n",
       "  </tbody>\n",
       "</table>\n",
       "</div>"
      ],
      "text/plain": [
       "   Student_Id         Name   Age  Gender Grade  Math Score English Score  \\\n",
       "0         100   Jane Smith  16.0  female    11        75.0           NaN   \n",
       "1         101     John Doe  16.0    Male  10th        74.0            95   \n",
       "2         102     Chris P.   NaN    MALE    10         NaN       missing   \n",
       "3         103   Jane Smith  16.0  FEMALE    10         NaN       missing   \n",
       "4         104  Sara O'Neil  16.0    male    11         NaN            96   \n",
       "\n",
       "   Science Score Enrolled Date            Remarks  \n",
       "0             66    2022-06-10          excellent  \n",
       "1             94    10-06-2022               GOOD  \n",
       "2             69    06/12/2022  needs improvement  \n",
       "3             62    10-06-2022            average  \n",
       "4             64    2022-06-10               GOOD  "
      ]
     },
     "execution_count": 48,
     "metadata": {},
     "output_type": "execute_result"
    }
   ],
   "source": [
    "student.head()"
   ]
  },
  {
   "cell_type": "markdown",
   "id": "05b4171d-3a26-4110-a39d-d3ce4b791ebf",
   "metadata": {},
   "source": [
    "**Rechecking Column Names**"
   ]
  },
  {
   "cell_type": "code",
   "execution_count": 32,
   "id": "162edd75-57c1-49c9-99c7-7348a876c5ee",
   "metadata": {},
   "outputs": [
    {
     "data": {
      "text/plain": [
       "Index(['Student_Id', 'Name', 'Age', 'Gender', 'Grade', 'Math Score',\n",
       "       'English Score', 'Science Score', 'Enrolled Date', 'Remarks'],\n",
       "      dtype='object')"
      ]
     },
     "execution_count": 32,
     "metadata": {},
     "output_type": "execute_result"
    }
   ],
   "source": [
    "student.columns"
   ]
  },
  {
   "cell_type": "markdown",
   "id": "56122135-779d-4020-bd2c-5227d4792b1e",
   "metadata": {},
   "source": [
    "**Inspecting Unique Names**"
   ]
  },
  {
   "cell_type": "code",
   "execution_count": 46,
   "id": "dd6ef6ce-88f6-4579-bc4d-f4548f9774d2",
   "metadata": {},
   "outputs": [
    {
     "data": {
      "text/plain": [
       "array(['Jane Smith', 'John Doe', 'Chris P.', \"Sara O'Neil\",\n",
       "       'Mike O’Reilly', 'Ali Khan', 'Robert Brown', 'Lucy Gray',\n",
       "       'Simran Singh', 'Patel R.'], dtype=object)"
      ]
     },
     "execution_count": 46,
     "metadata": {},
     "output_type": "execute_result"
    }
   ],
   "source": [
    "student['Name'].unique()"
   ]
  },
  {
   "cell_type": "markdown",
   "id": "8716780d-b9cc-4afa-8f1b-9cf4f7e20d3b",
   "metadata": {},
   "source": [
    "**Standardizing Names**"
   ]
  },
  {
   "cell_type": "code",
   "execution_count": 47,
   "id": "5c911165-4a6c-4931-b83d-d74de2cbcd5f",
   "metadata": {},
   "outputs": [],
   "source": [
    "student.loc[:, ['Name']] =  student['Name'].str.lower().str.title()"
   ]
  },
  {
   "cell_type": "markdown",
   "id": "c92cbc50-d7fe-41c4-b8cf-8d27e7123dff",
   "metadata": {},
   "source": [
    "**Inspecting Unique Ages**"
   ]
  },
  {
   "cell_type": "code",
   "execution_count": 49,
   "id": "cb772c13-efc4-45ba-abfd-800c16458759",
   "metadata": {},
   "outputs": [
    {
     "data": {
      "text/plain": [
       "array([16., nan, 17., 18.])"
      ]
     },
     "execution_count": 49,
     "metadata": {},
     "output_type": "execute_result"
    }
   ],
   "source": [
    "student['Age'].unique()"
   ]
  },
  {
   "cell_type": "markdown",
   "id": "a37fda4b-8ead-417c-a91d-24f4460f5222",
   "metadata": {},
   "source": [
    "**Calculating the Average Age**"
   ]
  },
  {
   "cell_type": "code",
   "execution_count": 60,
   "id": "8213fc11-4cad-480d-a97f-4780a1e9ccce",
   "metadata": {},
   "outputs": [],
   "source": [
    "avg_age = student['Age'].mean().round()"
   ]
  },
  {
   "cell_type": "code",
   "execution_count": 61,
   "id": "7fabd65e-cf6f-40a7-8e36-e392969bc92f",
   "metadata": {},
   "outputs": [
    {
     "data": {
      "text/plain": [
       "17.0"
      ]
     },
     "execution_count": 61,
     "metadata": {},
     "output_type": "execute_result"
    }
   ],
   "source": [
    "avg_age"
   ]
  },
  {
   "cell_type": "markdown",
   "id": "0575bdb6-f99b-4757-aabd-35324dc17c66",
   "metadata": {},
   "source": [
    "**Filling Missing Ages with the Average Age**"
   ]
  },
  {
   "cell_type": "code",
   "execution_count": 63,
   "id": "ad4329a9-706d-4e36-896a-333f345b9f6f",
   "metadata": {},
   "outputs": [],
   "source": [
    "student.loc[:, ['Age']] = student['Age'].fillna(avg_age)"
   ]
  },
  {
   "cell_type": "markdown",
   "id": "0411d12b-144e-49b6-be3d-ba1b5f293ff9",
   "metadata": {},
   "source": [
    "**Inspecting Unique Gender Values**"
   ]
  },
  {
   "cell_type": "code",
   "execution_count": 64,
   "id": "271a0dd7-3646-448a-a190-e0f14fe141b9",
   "metadata": {},
   "outputs": [
    {
     "data": {
      "text/plain": [
       "array(['female', 'Male', 'MALE', 'FEMALE', 'male', 'Female'], dtype=object)"
      ]
     },
     "execution_count": 64,
     "metadata": {},
     "output_type": "execute_result"
    }
   ],
   "source": [
    "student['Gender'].unique()"
   ]
  },
  {
   "cell_type": "markdown",
   "id": "a982d716-1161-4fc8-8208-1bddddb8573e",
   "metadata": {},
   "source": [
    "**Standardizing Gender Values**"
   ]
  },
  {
   "cell_type": "code",
   "execution_count": 66,
   "id": "45396b6d-c4f8-44c2-b3d1-565ab29e85f9",
   "metadata": {},
   "outputs": [],
   "source": [
    "student.loc[:, ['Gender']] = student['Gender'].str.lower().str.title()"
   ]
  },
  {
   "cell_type": "code",
   "execution_count": 67,
   "id": "fef16d61-ae2e-46d6-9b24-121d390eb8c1",
   "metadata": {},
   "outputs": [
    {
     "data": {
      "text/plain": [
       "array(['Female', 'Male'], dtype=object)"
      ]
     },
     "execution_count": 67,
     "metadata": {},
     "output_type": "execute_result"
    }
   ],
   "source": [
    "student['Gender'].unique()"
   ]
  },
  {
   "cell_type": "markdown",
   "id": "6fe82128-e209-4dad-be32-f0c7ebd7ce74",
   "metadata": {},
   "source": [
    "**Inspecting Grade Values**"
   ]
  },
  {
   "cell_type": "code",
   "execution_count": 69,
   "id": "ccff8d6f-5080-4dd9-9f9d-82ce256f762c",
   "metadata": {},
   "outputs": [
    {
     "data": {
      "text/plain": [
       "array(['11', '10th', '10', '12', '11th'], dtype=object)"
      ]
     },
     "execution_count": 69,
     "metadata": {},
     "output_type": "execute_result"
    }
   ],
   "source": [
    "student['Grade'].unique()"
   ]
  },
  {
   "cell_type": "markdown",
   "id": "7e1000ca-5932-40fe-a5ae-d72ffcfcc206",
   "metadata": {},
   "source": [
    "**Standardizing Grade Format**"
   ]
  },
  {
   "cell_type": "code",
   "execution_count": 70,
   "id": "2e2e65a6-aa62-4f87-ab77-94bff2f4632e",
   "metadata": {},
   "outputs": [],
   "source": [
    "grade_dict = {'10th': '10', '11th': '11'}"
   ]
  },
  {
   "cell_type": "code",
   "execution_count": 85,
   "id": "34b0d158-6cb9-41c2-9c11-03a8a8942ba8",
   "metadata": {},
   "outputs": [],
   "source": [
    "student.loc[:, ['Grade']] = student['Grade'].replace(grade_dict).astype('int')"
   ]
  },
  {
   "cell_type": "code",
   "execution_count": 86,
   "id": "33786c51-a3c7-4f29-93fe-e49ceb56c9c3",
   "metadata": {},
   "outputs": [
    {
     "data": {
      "text/plain": [
       "array([11, 10, 12], dtype=object)"
      ]
     },
     "execution_count": 86,
     "metadata": {},
     "output_type": "execute_result"
    }
   ],
   "source": [
    "student['Grade'].unique()"
   ]
  },
  {
   "cell_type": "markdown",
   "id": "8ca8a908-8ccb-4ae2-8e59-e37267e860ae",
   "metadata": {},
   "source": [
    "**Inspecting Math Scores**"
   ]
  },
  {
   "cell_type": "code",
   "execution_count": 74,
   "id": "b60de87c-eaf8-4194-9d03-d490629303c1",
   "metadata": {},
   "outputs": [
    {
     "data": {
      "text/plain": [
       "array([ 75.,  74.,  nan,  64.,  80.,  65.,  67., 100.,  73.,  66.,  94.])"
      ]
     },
     "execution_count": 74,
     "metadata": {},
     "output_type": "execute_result"
    }
   ],
   "source": [
    "student['Math Score'].unique()"
   ]
  },
  {
   "cell_type": "markdown",
   "id": "8519d01e-98d0-4d26-b5b7-3e517ce24612",
   "metadata": {},
   "source": [
    "**Calculating Average Math Score**"
   ]
  },
  {
   "cell_type": "code",
   "execution_count": 81,
   "id": "4919d7aa-7c5e-43c5-ac7d-e1d9039047b2",
   "metadata": {},
   "outputs": [],
   "source": [
    "avg_math_score = student['Math Score'].mean().astype('int')"
   ]
  },
  {
   "cell_type": "code",
   "execution_count": 87,
   "id": "32bab143-208f-47fc-ad33-6659e9ab6a36",
   "metadata": {},
   "outputs": [
    {
     "data": {
      "text/plain": [
       "74"
      ]
     },
     "execution_count": 87,
     "metadata": {},
     "output_type": "execute_result"
    }
   ],
   "source": [
    "avg_math_score"
   ]
  },
  {
   "cell_type": "markdown",
   "id": "e7ebf7ad-9705-44ce-8e7f-1265bd0e7dc2",
   "metadata": {},
   "source": [
    "**Filling Missing Math Scores with the Average Score**"
   ]
  },
  {
   "cell_type": "code",
   "execution_count": 83,
   "id": "7ac05592-8bb6-464e-b51a-597dd9fb33ba",
   "metadata": {},
   "outputs": [],
   "source": [
    "student.loc[:, ['Math Score']] = student['Math Score'].fillna(avg_math_score)"
   ]
  },
  {
   "cell_type": "code",
   "execution_count": 84,
   "id": "21d7486b-78b3-47a8-ad0d-8b37e9a069f9",
   "metadata": {},
   "outputs": [
    {
     "data": {
      "text/plain": [
       "array([ 75.,  74.,  64.,  80.,  65.,  67., 100.,  73.,  66.,  94.])"
      ]
     },
     "execution_count": 84,
     "metadata": {},
     "output_type": "execute_result"
    }
   ],
   "source": [
    "student['Math Score'].unique()"
   ]
  },
  {
   "cell_type": "markdown",
   "id": "c1a4a129-8c3b-4f0a-9cb5-05b7cc0da014",
   "metadata": {},
   "source": [
    "**Inspecting English Scores**"
   ]
  },
  {
   "cell_type": "code",
   "execution_count": 80,
   "id": "9d615c63-5f46-4ce0-90cb-811bea7068c5",
   "metadata": {},
   "outputs": [
    {
     "data": {
      "text/plain": [
       "array([nan, '95', 'missing', '96', '63', '67', '87', '91', '74', '72',\n",
       "       '80', '76', '64'], dtype=object)"
      ]
     },
     "execution_count": 80,
     "metadata": {},
     "output_type": "execute_result"
    }
   ],
   "source": [
    "student['English Score'].unique()"
   ]
  },
  {
   "cell_type": "markdown",
   "id": "211c9077-8f02-445f-a164-39e55dd924bd",
   "metadata": {},
   "source": [
    "**Converting English Scores to Numeric**"
   ]
  },
  {
   "cell_type": "code",
   "execution_count": 91,
   "id": "33274d10-b0a6-4ad0-9c31-51031acd8b50",
   "metadata": {},
   "outputs": [],
   "source": [
    "student.loc[:, ['English Score']] = pd.to_numeric(student['English Score'], errors = 'coerce')"
   ]
  },
  {
   "cell_type": "markdown",
   "id": "74873882-d5c0-4785-a3bc-b58e4902d1cc",
   "metadata": {},
   "source": [
    "**Inspecting Enrollment Dates**"
   ]
  },
  {
   "cell_type": "code",
   "execution_count": 111,
   "id": "ac5abb23-d685-4a4a-9de0-1076a83de445",
   "metadata": {},
   "outputs": [
    {
     "data": {
      "text/plain": [
       "array(['2022-06-10', '10-06-2022', '06/12/2022', '2022/06/11'],\n",
       "      dtype=object)"
      ]
     },
     "execution_count": 111,
     "metadata": {},
     "output_type": "execute_result"
    }
   ],
   "source": [
    "student['Enrolled Date'].unique()"
   ]
  },
  {
   "cell_type": "markdown",
   "id": "6867a2f6-3366-4e99-879b-feff41c59ca1",
   "metadata": {},
   "source": [
    "**Standardizing Enrollment Dates**"
   ]
  },
  {
   "cell_type": "code",
   "execution_count": 116,
   "id": "fd588604-36b3-43e1-9870-d5315cfbe4f3",
   "metadata": {},
   "outputs": [],
   "source": [
    "date_dict = {'10-06-2022':'2022-06-10', '06/12/2022':'2022-06-12', '2022/06/11':'2022-06-11'}"
   ]
  },
  {
   "cell_type": "code",
   "execution_count": 117,
   "id": "1734aa6b-9266-424c-bb35-d78cab0a1a9e",
   "metadata": {},
   "outputs": [],
   "source": [
    "student.loc[:, ['Enrolled Date']] = student['Enrolled Date'].replace(date_dict)"
   ]
  },
  {
   "cell_type": "markdown",
   "id": "232ea694-d671-40d8-967a-96a570cafc69",
   "metadata": {},
   "source": [
    "**Converting to Datetime Format**"
   ]
  },
  {
   "cell_type": "code",
   "execution_count": 133,
   "id": "8f3c8d90-27e6-4df4-a953-57810bd30414",
   "metadata": {},
   "outputs": [],
   "source": [
    "student['Enrolled Date'] = pd.to_datetime(student['Enrolled Date'], errors = 'coerce')"
   ]
  },
  {
   "cell_type": "markdown",
   "id": "21afda2d-8178-4839-8ea2-165c2261860c",
   "metadata": {},
   "source": [
    "**Inspecting Remarks**"
   ]
  },
  {
   "cell_type": "code",
   "execution_count": 119,
   "id": "8a2b214d-66c2-40b6-a8b9-1da8a2e2d191",
   "metadata": {},
   "outputs": [
    {
     "data": {
      "text/plain": [
       "array(['excellent', 'GOOD', 'needs improvement', 'average', 'Good',\n",
       "       'poor', 'Average', 'good student'], dtype=object)"
      ]
     },
     "execution_count": 119,
     "metadata": {},
     "output_type": "execute_result"
    }
   ],
   "source": [
    "student['Remarks'].unique()"
   ]
  },
  {
   "cell_type": "markdown",
   "id": "72f0f68e-128f-4064-9870-e74d17dc87c6",
   "metadata": {},
   "source": [
    "**Standardizing Remarks**"
   ]
  },
  {
   "cell_type": "code",
   "execution_count": 120,
   "id": "8a21a43d-4eba-46f0-aa6d-e571f0bb1d3d",
   "metadata": {},
   "outputs": [],
   "source": [
    "student.loc[:, ['Remarks']] = student['Remarks'].str.lower().str.title()"
   ]
  },
  {
   "cell_type": "markdown",
   "id": "988346b8-f58a-4412-974f-9bed6703b1c0",
   "metadata": {},
   "source": [
    "**Final Dataset Summary**"
   ]
  },
  {
   "cell_type": "code",
   "execution_count": 134,
   "id": "a5e12020-9c42-4711-9e1f-df20a7f3da3a",
   "metadata": {},
   "outputs": [
    {
     "name": "stdout",
     "output_type": "stream",
     "text": [
      "<class 'pandas.core.frame.DataFrame'>\n",
      "Index: 30 entries, 0 to 29\n",
      "Data columns (total 10 columns):\n",
      " #   Column         Non-Null Count  Dtype         \n",
      "---  ------         --------------  -----         \n",
      " 0   Student_Id     30 non-null     int64         \n",
      " 1   Name           30 non-null     object        \n",
      " 2   Age            30 non-null     float64       \n",
      " 3   Gender         30 non-null     object        \n",
      " 4   Grade          30 non-null     object        \n",
      " 5   Math Score     30 non-null     float64       \n",
      " 6   English Score  30 non-null     float64       \n",
      " 7   Science Score  30 non-null     int64         \n",
      " 8   Enrolled Date  30 non-null     datetime64[ns]\n",
      " 9   Remarks        30 non-null     object        \n",
      "dtypes: datetime64[ns](1), float64(3), int64(2), object(4)\n",
      "memory usage: 2.6+ KB\n"
     ]
    }
   ],
   "source": [
    "student.info()"
   ]
  },
  {
   "cell_type": "markdown",
   "id": "60c7f8a0-ab5e-43d0-9106-653276057403",
   "metadata": {},
   "source": [
    "**Confirmed that**:\n",
    "\n",
    "* All columns have the correct data type.\n",
    "\n",
    "* No missing values remain.\n",
    "\n",
    "* Column names are clear and professional.\n",
    "\n",
    "Dataset is now fully cleaned and ready for analysis or visualization."
   ]
  },
  {
   "cell_type": "code",
   "execution_count": null,
   "id": "ce61b035-0ffb-4480-9fbb-e68562394ef8",
   "metadata": {},
   "outputs": [],
   "source": []
  }
 ],
 "metadata": {
  "kernelspec": {
   "display_name": "Python 3 (ipykernel)",
   "language": "python",
   "name": "python3"
  },
  "language_info": {
   "codemirror_mode": {
    "name": "ipython",
    "version": 3
   },
   "file_extension": ".py",
   "mimetype": "text/x-python",
   "name": "python",
   "nbconvert_exporter": "python",
   "pygments_lexer": "ipython3",
   "version": "3.12.4"
  }
 },
 "nbformat": 4,
 "nbformat_minor": 5
}
